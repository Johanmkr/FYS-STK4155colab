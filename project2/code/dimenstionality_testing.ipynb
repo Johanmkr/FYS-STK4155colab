{
 "cells": [
  {
   "cell_type": "code",
   "execution_count": null,
   "metadata": {},
   "outputs": [],
   "source": [
    "import numpy as np"
   ]
  },
  {
   "cell_type": "code",
   "execution_count": null,
   "metadata": {},
   "outputs": [],
   "source": [
    "w1 = np.ones((5,1))\n",
    "w2 = np.ones((3,5))\n",
    "w3 = np.ones((1,3))\n",
    "weights = [w1,w2, w3]"
   ]
  },
  {
   "cell_type": "code",
   "execution_count": null,
   "metadata": {},
   "outputs": [],
   "source": [
    "m = 5\n",
    "layers = 3\n",
    "nInputs = 10\n",
    "\n",
    "\n",
    "def extendMatrix(matrix, m=m):\n",
    "    returnMatrix = np.empty((m,m))\n",
    "    returnMatrix.fill(np.nan)\n",
    "    returnMatrix[:matrix.shape[0], :matrix.shape[1]] = matrix\n",
    "    return returnMatrix\n",
    "\n",
    "\n",
    "W = np.empty((layers, m, m))\n",
    "\n",
    "for i, weight in enumerate(weights):\n",
    "    W[i, :, :] = extendMatrix(weight, m)\n",
    "\n",
    "print(W)"
   ]
  },
  {
   "cell_type": "code",
   "execution_count": null,
   "metadata": {},
   "outputs": [],
   "source": [
    "b1 = np.ones((1,5))\n",
    "b2 = np.ones((1,3))\n",
    "b3 = np.ones((1,1))\n",
    "biases = [b1, b2, b3]\n",
    "\n",
    "def extendBias(bias, m=m):\n",
    "    returnBias = np.empty((1,m))\n",
    "    returnBias.fill(np.nan)\n",
    "    returnBias[:bias.shape[0], :bias.shape[1]] = bias\n",
    "    return returnBias\n",
    "\n",
    "B = np.empty((layers, 1, m))\n",
    "\n",
    "for i, bias in enumerate(biases):\n",
    "    B[i, :, :] = extendBias(bias)\n",
    "print(B)"
   ]
  },
  {
   "cell_type": "code",
   "execution_count": null,
   "metadata": {},
   "outputs": [],
   "source": [
    "delta1 = np.ones((nInputs, 5))\n",
    "delta2 = np.ones((nInputs, 3))\n",
    "delta3 = np.ones((nInputs, 1))\n",
    "\n",
    "deltas = [delta1, delta2, delta3]\n",
    "\n",
    "h0 = np.ones((nInputs, 1)) * 10.5\n",
    "h1 = np.ones((nInputs, 5)) * 10.5\n",
    "h2 = np.ones((nInputs, 3)) * 10.5\n",
    "hs = [h0, h1, h2]\n",
    "\n",
    "def extendHDelta(hdelta, n=nInputs, m=m):\n",
    "    returnHDelta = np.empty((n,m))\n",
    "    returnHDelta.fill(np.nan)\n",
    "    returnHDelta[:hdelta.shape[0], :hdelta.shape[1]] = hdelta \n",
    "    return returnHDelta \n",
    "\n",
    "H = np.empty((layers, nInputs, m))\n",
    "Delta = np.empty((layers, nInputs, m))\n",
    "\n",
    "for i, h in enumerate(hs):\n",
    "    H[i, :, :] = extendHDelta(h)\n",
    "for i, delta in enumerate(deltas):\n",
    "    Delta[i, :, :] = extendHDelta(delta)\n",
    "\n"
   ]
  },
  {
   "cell_type": "code",
   "execution_count": null,
   "metadata": {},
   "outputs": [],
   "source": [
    "print(Delta.shape)\n",
    "print(H.shape)\n",
    "\n",
    "DeltaT = np.transpose(Delta, axes=(0,2,1))\n",
    "print(DeltaT.shape)\n",
    "\n",
    "test = DeltaT @ H\n",
    "\n",
    "W = W - test\n",
    "W"
   ]
  },
  {
   "cell_type": "code",
   "execution_count": null,
   "metadata": {},
   "outputs": [],
   "source": [
    "print(Delta.shape)\n",
    "print(B.shape)\n",
    "\n",
    "subt = np.sum(Delta, axis=1, keepdims=True)\n",
    "B = B - subt\n",
    "B"
   ]
  },
  {
   "cell_type": "code",
   "execution_count": null,
   "metadata": {},
   "outputs": [],
   "source": [
    "W"
   ]
  },
  {
   "cell_type": "code",
   "execution_count": null,
   "metadata": {},
   "outputs": [],
   "source": [
    "\n",
    "def collapseMatrix(W):\n",
    "    l = len(W)\n",
    "    returnWeights = []\n",
    "    for i in range(l):\n",
    "        returnWeights.append(W[i][np.isfinite(W[i])].reshape(weights[i].shape))\n",
    "    return returnWeights\n",
    "\n",
    "weig = collapseMatrix(W)\n",
    "\n",
    "w1 = weig[0]\n",
    "w2 = weig[1]\n",
    "w3 = weig[2]\n"
   ]
  },
  {
   "cell_type": "code",
   "execution_count": null,
   "metadata": {},
   "outputs": [],
   "source": [
    "def collapseBias(B):\n",
    "    l = len(B)\n",
    "    returnBiases = []\n",
    "    for i in range(l):\n",
    "        returnBiases.append(B[i][np.isfinite(B[i])].reshape(biases[i].shape))\n",
    "    return returnBiases"
   ]
  },
  {
   "cell_type": "code",
   "execution_count": null,
   "metadata": {},
   "outputs": [],
   "source": [
    "bia = collapseBias(B)\n",
    "\n",
    "b1 = bia[0]\n",
    "b2 = bia[1]\n",
    "b3 = bia[2]\n"
   ]
  }
 ],
 "metadata": {
  "kernelspec": {
   "display_name": "Python 3.10.6 64-bit",
   "language": "python",
   "name": "python3"
  },
  "language_info": {
   "codemirror_mode": {
    "name": "ipython",
    "version": 3
   },
   "file_extension": ".py",
   "mimetype": "text/x-python",
   "name": "python",
   "nbconvert_exporter": "python",
   "pygments_lexer": "ipython3",
   "version": "3.10.6"
  },
  "orig_nbformat": 4,
  "vscode": {
   "interpreter": {
    "hash": "31f2aee4e71d21fbe5cf8b01ff0e069b9275f58929596ceb00d14d90e3e16cd6"
   }
  }
 },
 "nbformat": 4,
 "nbformat_minor": 2
}
